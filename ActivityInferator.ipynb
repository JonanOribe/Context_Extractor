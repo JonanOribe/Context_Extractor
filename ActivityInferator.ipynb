{
 "cells": [
  {
   "cell_type": "code",
   "execution_count": 1,
   "metadata": {},
   "outputs": [
    {
     "name": "stdout",
     "output_type": "stream",
     "text": [
      "Requirement already up-to-date: spacy in d:\\anaconda3\\lib\\site-packages (2.1.8)\n",
      "Requirement already satisfied, skipping upgrade: murmurhash<1.1.0,>=0.28.0 in d:\\anaconda3\\lib\\site-packages (from spacy) (1.0.2)\n",
      "Requirement already satisfied, skipping upgrade: cymem<2.1.0,>=2.0.2 in d:\\anaconda3\\lib\\site-packages (from spacy) (2.0.2)\n",
      "Requirement already satisfied, skipping upgrade: preshed<2.1.0,>=2.0.1 in d:\\anaconda3\\lib\\site-packages (from spacy) (2.0.1)\n",
      "Requirement already satisfied, skipping upgrade: thinc<7.1.0,>=7.0.8 in d:\\anaconda3\\lib\\site-packages (from spacy) (7.0.8)\n",
      "Requirement already satisfied, skipping upgrade: srsly<1.1.0,>=0.0.6 in d:\\anaconda3\\lib\\site-packages (from spacy) (0.1.0)\n",
      "Requirement already satisfied, skipping upgrade: requests<3.0.0,>=2.13.0 in d:\\anaconda3\\lib\\site-packages (from spacy) (2.22.0)\n",
      "Requirement already satisfied, skipping upgrade: plac<1.0.0,>=0.9.6 in d:\\anaconda3\\lib\\site-packages (from spacy) (0.9.6)\n",
      "Requirement already satisfied, skipping upgrade: numpy>=1.15.0 in d:\\anaconda3\\lib\\site-packages (from spacy) (1.16.4)\n",
      "Requirement already satisfied, skipping upgrade: blis<0.3.0,>=0.2.2 in d:\\anaconda3\\lib\\site-packages (from spacy) (0.2.4)\n",
      "Requirement already satisfied, skipping upgrade: wasabi<1.1.0,>=0.2.0 in d:\\anaconda3\\lib\\site-packages (from spacy) (0.2.2)\n",
      "Requirement already satisfied, skipping upgrade: tqdm<5.0.0,>=4.10.0 in d:\\anaconda3\\lib\\site-packages (from thinc<7.1.0,>=7.0.8->spacy) (4.32.1)\n",
      "Requirement already satisfied, skipping upgrade: chardet<3.1.0,>=3.0.2 in d:\\anaconda3\\lib\\site-packages (from requests<3.0.0,>=2.13.0->spacy) (3.0.4)\n",
      "Requirement already satisfied, skipping upgrade: certifi>=2017.4.17 in d:\\anaconda3\\lib\\site-packages (from requests<3.0.0,>=2.13.0->spacy) (2019.6.16)\n",
      "Requirement already satisfied, skipping upgrade: idna<2.9,>=2.5 in d:\\anaconda3\\lib\\site-packages (from requests<3.0.0,>=2.13.0->spacy) (2.8)\n",
      "Requirement already satisfied, skipping upgrade: urllib3!=1.25.0,!=1.25.1,<1.26,>=1.21.1 in d:\\anaconda3\\lib\\site-packages (from requests<3.0.0,>=2.13.0->spacy) (1.24.2)\n",
      "Requirement already satisfied: en_core_web_sm==2.1.0 from https://github.com/explosion/spacy-models/releases/download/en_core_web_sm-2.1.0/en_core_web_sm-2.1.0.tar.gz#egg=en_core_web_sm==2.1.0 in d:\\anaconda3\\lib\\site-packages (2.1.0)\n",
      "[+] Download and installation successful\n",
      "You can now load the model via spacy.load('en_core_web_sm')\n",
      "vínculo simbólico creado para D:\\anaconda3\\lib\\site-packages\\spacy\\data\\en <<===>> D:\\anaconda3\\lib\\site-packages\\en_core_web_sm\n",
      "[+] Linking successful\n",
      "D:\\anaconda3\\lib\\site-packages\\en_core_web_sm -->\n",
      "D:\\anaconda3\\lib\\site-packages\\spacy\\data\\en\n",
      "You can now load the model via spacy.load('en')\n",
      "Requirement already satisfied: es_core_news_sm==2.1.0 from https://github.com/explosion/spacy-models/releases/download/es_core_news_sm-2.1.0/es_core_news_sm-2.1.0.tar.gz#egg=es_core_news_sm==2.1.0 in d:\\anaconda3\\lib\\site-packages (2.1.0)\n",
      "[+] Download and installation successful\n",
      "You can now load the model via spacy.load('es_core_news_sm')\n",
      "vínculo simbólico creado para D:\\anaconda3\\lib\\site-packages\\spacy\\data\\es <<===>> D:\\anaconda3\\lib\\site-packages\\es_core_news_sm\n",
      "[+] Linking successful\n",
      "D:\\anaconda3\\lib\\site-packages\\es_core_news_sm -->\n",
      "D:\\anaconda3\\lib\\site-packages\\spacy\\data\\es\n",
      "You can now load the model via spacy.load('es')\n"
     ]
    }
   ],
   "source": [
    "!pip install -U spacy\n",
    "!python -m spacy download en\n",
    "!python -m spacy download es"
   ]
  },
  {
   "cell_type": "code",
   "execution_count": 4,
   "metadata": {},
   "outputs": [
    {
     "name": "stdout",
     "output_type": "stream",
     "text": [
      "./articles/aeronautics\n",
      "a380.txt\n",
      "aciturri.txt\n",
      "airbus.txt\n",
      "itp.txt\n",
      "partes.txt\n",
      "qantas.txt\n",
      "./articles/cars\n",
      "audiRS6.txt\n",
      "bugatti.txt\n",
      "diesel.txt\n",
      "fiat.txt\n",
      "gaursa.txt\n",
      "mazda3.txt\n",
      "neumaticos.txt\n",
      "renault.txt\n",
      "repostar.txt\n",
      "seat.txt\n",
      "subaru.txt\n",
      "suv.txt\n",
      "volvo.txt\n",
      "./articles/furniture\n",
      "bricor.txt\n",
      "decoracion.txt\n",
      "jysk.txt\n",
      "leroy.txt\n",
      "merkamueble.txt\n",
      "muebles.txt\n",
      "./articles/software\n",
      "agmsoft.txt\n",
      "bilbomatica.txt\n",
      "dominion.txt\n",
      "eurohelp.txt\n",
      "ibermatica.txt\n",
      "serikat.txt\n",
      "sistel.txt\n",
      "zorraquino.txt\n"
     ]
    }
   ],
   "source": [
    "import os\n",
    "import pandas as pd\n",
    "import spacy\n",
    "from spacy.lang.es.examples import sentences \n",
    "\n",
    "spacy.load('es')\n",
    "\n",
    "nlp = spacy.load('es_core_news_sm')\n",
    "\n",
    "#Generate dictionaries\n",
    "path = './articles/'\n",
    "for r, d, f in os.walk(path):   \n",
    "    for directory in d:\n",
    "        path2=path+directory\n",
    "        dictionary_for_keywords=[]\n",
    "        for r2,d2,f2 in os.walk(path2):\n",
    "            print(path2)\n",
    "            for file in f2:\n",
    "                print(file)\n",
    "                articleFile = open(path2+'/'+file,'r',encoding='utf8') \n",
    "                article=articleFile.read()\n",
    "\n",
    "                doc=nlp(article)\n",
    "\n",
    "                for token in doc:\n",
    "                    if(token.pos_==\"NOUN\" and 30>len(token)>1 and token.text.isnumeric()==False):\n",
    "                        word=token.text.lower()\n",
    "                        dictionary_for_keywords.append(word)\n",
    "            dictionary_for_keywords_with_filter = list(dict.fromkeys(dictionary_for_keywords))\n",
    "            df = pd.DataFrame(dictionary_for_keywords_with_filter)\n",
    "            df.to_csv('../Inferator/dictionaries/'+directory+'.csv',sep=';',encoding='utf8',index=False)"
   ]
  },
  {
   "cell_type": "markdown",
   "metadata": {},
   "source": []
  },
  {
   "cell_type": "code",
   "execution_count": 3,
   "metadata": {},
   "outputs": [
    {
     "name": "stdout",
     "output_type": "stream",
     "text": [
      "./dictionaries/\n",
      "aeronautics.csv\n",
      "./dictionaries/\n",
      "cars.csv\n",
      "./dictionaries/\n",
      "furniture.csv\n",
      "./dictionaries/\n",
      "software.csv\n",
      "2010\n"
     ]
    },
    {
     "name": "stdout",
     "output_type": "stream",
     "text": [
      "['acceso', 'suscripción', 'noticias', 'turismo', 'profesionales', 'actualidad', 'hoteles', 'economía', 'agencias', 'viajes', 'aerolíneas', 'empresas', 'alojamientos', 'intermediación', 'transportes', 'innovación', 'hemeroteca', 'fabricante', 'partes', 'superjumbo', 'avión', 'millones', 'piezas', 'países', 'plantas', 'construcción', 'secciones', 'fuselaje', 'alas', 'plano', 'cola', 'línea', 'montaje', 'planta', 'instalación', 'modelo', 'estrella', 'flota', 'incertidumbre', 'caída', 'demanda', 'pasajeros', 'mundo', 'pisos', 'motores', 'metros', 'longitud', 'altura', 'envergadura', 'capacidad', 'dimensiones', 'número', 'remaches', 'asientos', 'programa', 'suspensión', 'trabajadores', 'sur', 'base', 'sede', 'departamento', 'pruebas', 'vuelo', 'pasillo', 'megajet', 'aleta', 'gigante', 'aire', 'mar', 'tierra', 'remolques', 'ensamblaje', 'proceso', 'espectáculo', 'ríos', 'carreteras', 'ciudades', 'crónica', 'imágenes', 'articulo', 'redactor', 'ganancias', 'medio', 'crisis', 'contenidos', 'sesión', 'cuentainicia', 'noticia', 'comentarios', 'cruceros', 'nivel', 'encuentro', 'industria', 'feria', 'importancia', 'sector', 'margen', 'edición', 'abril', 'impacto', 'dólares', 'euros', 'millón', 'empleos', 'datos', 'celebración', 'semana', 'confianza', 'expansión', 'resiliencia', 'frente', 'desafíos', 'récord', 'fenómeno', 'tendencia', 'mainstream', 'dinamismo', 'crecimiento', 'convicción', 'presidente', 'compañía', 'gerente', 'mercado', 'incorporación', 'destinos', 'gracias', 'normalización', 'relaciones', 'nación', 'manera', 'negocio', 'jueves', 'expositores', 'boomers', 'generación', 'auge', 'consumidores', 'tipo', 'ocio', 'milenials', 'años', 'grupo', 'valor', 'diversidad', 'experiencias', 'destino', 'conferencia', 'valoración', 'futuro', 'turistas', 'general', 'ascienda', 'previsión', 'año', 'duda', 'búsqueda', 'opciones', 'servicio', 'estrellas', 'implicaciones', 'sostenibilidad', 'responsabilidad', 'protección', 'hábitat', 'marino', 'ejecutivos', 'vitalidad', 'puertos', 'cifra', 'precedentes', 'visitantes', 'barcos', 'potencia', 'tráfico', 'enero', 'respecto', 'prensa', 'titular', 'entidad', 'potencial', 'volumen', 'fuente', 'empleo', 'personas', 'agente', 'promoción', 'zonas', 'generador', 'regularidad', 'líneas', 'sinergia', 'sectores', 'puestos', 'trabajo', 'consejera', 'presentación', 'pedido', 'gas', 'compromiso', 'optimismo', 'lugar', 'ciudad', 'norte', 'obras', 'renovación', 'recinto', 'hechos', 'ataques', 'trimestre', 'turbulencias', 'huelga', 'personal', 'aeropuertos', 'director', 'tardes', 'creacion', 'contacto', 'ustedes', 'consultas', 'días', 'fuentes', 'financiación', 'resto', 'burbuja', 'estalla', 'bebidas', 'todas', 'ofertas', 'movimiento', 'neurólogos', 'redes', 'vacaciones', 'cierre', 'bases', 'alerta', 'suscríbete', 'rescate', 'aeronática', 'empresa', 'ampliaicón', 'capital', 'foto', 'alejandro', 'acuerdo', 'acciones', 'adquisición', 'accionista', 'firma', 'socios', 'pérdidas', 'parte', 'ampliación', 'operación', 'aprobación', 'compra', 'posición', 'proveedor', 'referencia', 'viabilidad', 'líder', 'tecnología', 'materiales', 'actividades', 'diseño', 'desarrollo', 'fabricación', 'componentes', 'empleados', 'accionariado', 'plan', 'saneamiento', 'entrada', 'salida', 'agencia', 'resultados', 'compromisos', 'devolución', 'deuda', 'partir', 'soplo', 'gestión', 'tecnologías', 'internacionalización', 'sentido', 'integración', 'complementariedad', 'compañías', 'enfoque', 'inversión', 'ventas', 'entorno', 'instalaciones', 'áreas', 'caso', 'momentos', 'centros', 'localidades', 'total', 'invierte', 'criterios', 'información', 'contenido', 'galería', 'fotos', 'hígado', 'sentirnos', 'alimentos', 'vuelta', 'escudo', 'bikini', 'pechos', 'tiempo', 'kilómetros', 'carburante', 'motor', 'bandeja', 'interesar', 'aeronáutica', 'accidente', 'aerolínea', 'visto', 'paístwitterverneeconomía', 'fundador', 'momento', 'vida', 'muerte', 'tienda', 'domingo', 'tripulantes', 'cabina', 'mediación', 'proveedores', 'precios', 'flote', 'bancos', 'estímulos', 'riesgo', 'recesión', 'bolívar', 'reconversión', 'plataforma', 'series', 'noviembre', 'subida', 'bolsillo', 'turista', 'normas', 'navegación', 'turbinas', 'servicios', 'fin', 'principalsección', 'sección', 'idiomas', 'éxito', 'turbina', 'presión', 'centro', 'video', 'tubos', 'fittings', 'conjunto', 'tuberías', 'cables', 'instrumentación', 'tamaño', 'ductos', 'sistemas', 'acoplamiento', 'externals', 'fabricantes', 'consorcios', 'defensa', 'portfolio', 'productos', 'sitio', 'actualización', 'febrero', '2016resolución', 'pixeles', 'cosas!ciencia', 'formación', 'atrásinicio', 'ilustraciones', 'sustentación', 'dispositivos', 'control', 'introducción', 'aviones', 'aterrizajefuselaje', 'resistencia', 'tripulación', 'pasaje', 'carga', 'piloto', 'instrumentos', 'reacción', 'tanques', 'estructura', 'superficie', 'actividad', 'funciones', 'despegue', 'aterrizaje', 'superficies', 'cambios', 'forma', 'creación', 'variaciones', 'área', 'velocidad', 'cuestión', 'peso', 'recomendaciones', 'formas', 'configuraciones', 'ejemplo', 'flecha', 'delta', 'uso', 'transporte', 'punta', 'extensión', 'función', 'turbulencia', 'rendimiento', 'vuelos', 'km', 'ala', 'miércoles', 'agosto', 'accidentes', 'ingesta', 'aves', 'incidente', 'emergencia', 'picado', 'severas', 'galeria', 'operador', 'intención', 'octubre', 'aeronave', 'toneladas', 'aumento', 'comparación', 'cargueros', 'existentes', 'anuncio', 'marco', 'colaboración', 'configuración', 'inglés).los', 'operaciones', 'compartimentos', 'contenedores', 'cubierta', 'clientes', 'espacio', 'día', 'ventana', 'militares', 'show', 'fotografía', 'aviación', 'falla', 'diciembre', 'ruta', 'comentario', 'dirección', 'correo', 'campos', 'emergencias', 'martes', 'aeropuerto', 'heridos', 'segundos', 'about', 'horas', 'fanáticos', 'planeta', 'contagiarte', 'amor', 'compay', 'derechos', 'tema', 'colormag', 'revista', 'coches', 'logo', 'a1/sportback', 'modelos', 'cifras', 'nm', 'paso', 'cero', 'carrocería', 'prestaciones', 'convertirse', 'vehículo', 'publicidad', 'invented', 'fábrica', 'trenes', 'afueras', 'nave', 'techo', 'portón', 'aletas', 'milímetros', 'capó', 'llamativas', 'alerón', 'fuerzas', 'velocidades', 'llantas', 'colores', 'faros', 'unidad', 'periodistas', 'gris', 'mate', 'perfección', 'paquete', 'aluminio', 'alternativa', 'carbono', 'paquetes', 'aspecto', 'lamas', 'tomas', 'refrigeración', 'labio', 'deflector', 'taloneras', 'barras', 'moldura', 'difusor', 'logos', 'aros', 'letras', 'negro', 'carcasas', 'retrovisores', 'serie', 'ruedas', 'equipo', 'neumáticos', 'medida', 'llanta', 'casos', 'cubiertas', 'montadas', 'exclusivas', 'hora', 'tendrás', 'frenos', 'discos', 'acero', 'diámetro', 'pinzas', 'grises', 'nada', 'pistones', 'delanteros', 'calentamiento', 'cuenta', 'ahorro', 'kilos', 'masa', 'extra', 'apartado', 'litros', 'novedades', 'versión', 'adopción', 'sistema', 'hibridación', 'máquina', 'arranque', 'kw', 'retenciones', 'combustible', 'consumo', 'desconexión', 'cilindros', 'mitad', 'condiciones', 'escape', 'sonidos', 'cambio', 'autoblocante', 'par', 'tren', 'trasero', 'reparto', 'traseras', 'rango', 'recomendable', 'fuerza', 'rueda', 'dinámica', 'dynamic', 'eje', 'amortiguadores', 'dureza', 'filial', 'elementos', 'limitador', 'límite', 'interior', 'volante', 'pulsador', 'toque', 'derecho', 'modos', 'conducción', 'modo', 'cuadro', 'mandos', 'pantalla', 'vehículos', 'competición', 'cuentarrevoluciones', 'protagonismo', 'alrededor', 'montón', 'reloj', 'temperatura', 'aceite', 'turbo', 'cronómetros', 'acelerómetro', 'caballo', 'llegada', 'cuatrimestre', 'recuerdo', 'estampa', 'etiqueta', 'leyenda', 'multa', 'radar', 'contraseñas', 'coche', 'puedes', 'axa', 'aventuras', 'carácter', 'www.volkswagen.es', 'lanzamiento', 'gasolina', 'prueba', 'gama', 'bienvenido', 'era', 'variante', 'detalles', 'a3/sportback', 'marcas', 'vídeo', 'furgonetas', 'multas', 'exceso', 'review', 'renting', 'pena', 'truco', 'llave', 'revisión', 'trofeo', 'regalos', 'participas', 'interrogación', 'dudas', 'resolveremos', 'dinero', 'consejos', 'luike', 'publicaciones', 'soporte', 'puntos', 'automóvil', 'descuento', 'mantenimiento', 'producto', 'reproducción', 'través', 'autorización', 'efectos', 'artículo', 'párrafo', 'medios', 'motos', 'homenaje', 'marca', 'tributo', 'predecesor', 'unidades', 'estilo', 'reconocimiento', 'estela', 'comienzos', 'década', 'lección', 'hiperdeportivo', 'precio', 'impuestos', 'vendidas', 'antemano', 'historia', 'humanidad', 'casa', 'modificaciones', 'mejoras', 'estética', 'rasgos', 'proporciones', 'imagen', 'entradas', 'paragolpes', 'agujeros', 'zona', 'deportivos', 'ancho', 'salidas', 'orientación', 'automoción', 'chasis', 'fibra', 'mecánica', 'bloque', 'turbos', 'solo', 'detalle', 'denominación', 'nombre', 'aniversario', 'nacimiento', 'italiano', 'cumpleaños', 'aceleración', 'época', 'caja', 'uds', 'común', 'decisión', 'relación', 'talleres', 'reparación', 'tel', 'taller', 'trabajos', 'chapa', 'pintura', 'newsletter', 'moto', 'seguridad', 'eficiencia', 'cosas', 'elmotor', 'seguros', 'autoescuelas', 'tvi', 'wradio', 'loqueleo', 'razones', 'comprarlo', 'motorizaciones', 'gasóleo', 'opción', 'usuarios', 'pese', 'torno', 'oferta', 'motorización', 'meses', 'escenario', 'consecuencia', 'demonización', 'embargo', 'presentándose', 'electrificación', 'parque', 'camino', 'eléctrico?¿y', 'eléctrico', 'cara', 'sueldos', 'diésel', 'contamine', 'desinformación', 'mensajes', 'estamentos', 'partículas', 'antigüedad', 'emisiones', 'propulsor', 'matriculación', 'normativa', 'problema', 'motivo', 'automóviles', 'etiquetado', 'catalogación', 'tanto', 'restricciones', 'episodios', 'contaminación', 'híbridos', 'microhíbridos', 'eléctricos', 'ventajas', 'soluciones', 'consumos', 'co2', 'gasto', 'ventaja', 'contexto', 'supremacía', 'horizonte', 'descarbonización', 'plazo', 'es', 'decir', 'utilización', 'circulación', 'desde', 'puesto', 'certeza', 'perspectiva', 'evidencia', 'matriculaciones', 'esfuerzos', 'gamas', 'equivalentes', 'depreciación', 'reventa', 'salario', 'marinero', 'barco', 'piel', 'beneficios', 'picadura', 'garrapata', 'negociaciones', 'fusión', 'italiana', 'rumores', 'alzas', 'subidas', 'desempeño', 'repunte', 'mayo', 'razón', 'jornada', 'asperezas', 'curvas', 'semanas', 'tardanza', 'respuesta', 'trabas', 'socio', 'alianza', 'firmeza', 'intereses', 'país', 'condición', 'ministro', 'recorte', 'política', 'participación', 'escollo', 'reticencias', 'beneplácito', 'asiáticos', 'veto-', 'equilibrio', 'negociación', 'aval', 'francia', 'alarmas', 'hogar', 'solución', 'almacenamiento', 'analítica', 'derribo', 'camiseta', 'pared', 'cine', 'adultos', 'sueldo', 'vas', 'bolsas', 'mercados', 'hipoteca', 'jubilación', 'divisas', 'apaciguamiento', 'condicionantes', 'página', 'web', 'subastas', 'inmuebles', 'teleco', 'rumana', 'mes', 'telecos', 'aldea', 'retiro', 'promotores', 'barrios', 'español', 'bombilla', 'septiembre', 'smartphones', 'retirada', 'efectivo', 'ventanilla', 'avance', 'digitalización', 'banca', 'isla', 'orden', 'fiscal', 'viaje', 'rechazo', 'venta', 'hábitos', 'hombre', 'mujeres', 'metro', 'carne', 'listeria', 'horno', 'foco', 'dimisión', 'ocasión', 'cita', 'qashqai', 'promociones', 'freno', 'kit', 'distribución', 'concesionario', 'conócenos', 'trayectoria', 'movilidad', 'organización', 'accesorios', 'necesites', 'cobertura', 'cercanía', 'cookies', 'email', 'terceros', 'análisis', 'reportajes', 'técnica', 'videos', 'secretos', 'viernes', 'julio', 'acción', 'fondo', 'compacto', 'esperas', 'innovador', 'también', 'compresión', 'mecánicas', 'cuentagotas', 'desvelarte', 'completo', 'seguro', 'rpm', 'acelera', 'litros/100', 'presencia', 'logro', 'semejantes', 'tracción', 'maniobra', 'automática', 'partida', 'cristales', 'aleación', 'terminaciones', 'airbags', 'aviso', 'asistente', 'carril', 'bizona', 'detector', 'ángulo', 'sensor', 'aparcamiento', 'quieres', 'inicio', 'campo', 'rivales', 'webs', 'citas', 'esperes', 'aplicación', 'mazda3', 'unión', 'cuerpo', 'crash', 'verano', 'mano', 'debut', 'montarlos', 'ficha', 'todotiempo', 'consulta', 'lector', 'código', 'códigos', 'dado', 'requisito', 'consultes', 'medidas', 'aptas', 'estación', 'documentación', 'legalices', 'reforma', 'informe', 'conformidad', 'consultora', 'certificado', 'gratis-', 'inspección', 'preparación', 'punto', 'eficacia', 'neumático', 'golpe', 'efecto', 'segmento', 'culpa', 'impresiones', 'receta', 'repaso', 'generaciones', 'éxitos', 'widget', 'tasación', 'deseas', 'venderlo', 'achatarrarlo', 'beneficiarte', 'ayudas', 'curiosidad', 'excusa', 'stock', 'flexibilidad', 'tranquilidad', 'preocupaciones', 'feliziudad', 'universo', '16.546,4', 'descúbrelo', 'talisman', 'espace', 'easy', 'hacerte', 'clics', 'more', 'facilitarte', 'elijas', 'garantías', 'sustitución', 'privacidad', 'calidad', 'repostajes', 'depósito', 'autonomía', 'trayectos', 'carretera', 'veces', 'surtidor', 'suministro', 'manguera', 'repente', 'llenado', 'final', 'utilizas', 'verdad', 'conductos', 'espuma', 'acumulación', 'burbujas', 'tubo', 'gases', 'inconveniente', 'salpicaduras', 'mecanismo', 'facilidad', 'molestias', 'fórmula', 'repostaje', 'composición', 'aparición', 'resultado', 'conductor', 'visita', 'gasolinas', 'gasóleos', 'automovilista', 'regla', 'concierto', 'gira', 'paraíso', 'st', 'cupra', 'ir', 'necesitas', 'test', 'necesidades', 'nevadas', 'hazlo', 'catálogos', 'cliente', 'eventos', 'denuncia', 'conducta', 'música', 'terreno', 'entrega', 'apoyo', 'otoño', 'largo', 'híbrida', 'descuentos', 'fuel', 'petróleo', 'propuesta', 'campero', 'batería', 'iones', 'litio', 'energía', 'disminución', 'espera', 'homologación', 'variador', 'escúteres', 'hermanos', 'transición', 'térmico', 'brusquedad', 'módulo', 'obstáculos', 'todoterreno', 'programas', 'nieve', 'barro', 'pesos', 'ejes', 'rigidez', 'sensación', 'circuito', 'adherencia', 'plus', 'sensaciones', 'disposición', 'mejora', 'estabilidad', 'maletero', 'subaru', 'acabado', 'conductores', 'reglajes', 'asiento', 'ajustes', 'ojos', 'rayos', 'asistencias', 'estudio', 'mujer', 'los40.com', 'pretensiones', 'examen', 'pilas', 'sala', 'alquiler', 'izquierda', 'derecha', 'protagonistas', 'carrocerías', 'híbrido', 'baterías', 'diario', 'mercado?comparativa', 'concepto', 'hogares', 'evolución', 'marcha', 'palabras', 'pesar', 'aspectos', 'coste', 'entornos', 'red', 'autopistas', 'versiones', 'carencias', 'gasolinera', 'postes', 'plazas', 'comportamiento', 'euro', 'curva', 'limitaciones', 'concepción', 'poderío', 'brío', 'baja', '2.000', 'vueltas', 'embrague', 'cuesta', 'régimen', 'ritmos', 'tranquilos', 'todocaminos', 'costes', 'kwh', 'banqueta', 'anchura', 'laterales', 'piernas', 'motivos', 'cuña', 'perfil', 'frontal', 'parrilla', 'pieza', 'rayas', 'relieve', 'personalidad', 'portapilotos', 'parachoques', 'equipamiento', 'diferencias', 'enchufables', 'conclusión', 'virtudes', 'familiar', 'cuanto', 'agilidad', 'silla', 'salvaescaleras', 'expertos', 'montañero', 'ovejas', 'incendios', 'carta', 'divertirse', 'rama', 'características', 'deportivo', 'perfiles', 'juego', 'volúmenes', 'especio', 'caballos', 'and', 'start', 'mm', 'probióticos', 'personaje', 'clase', 'hija', 'ingreso', 'novio', 'amarte', 'desnudo', 'regalo', 'salud', 'horóscopo', 'mente', 'navegador', 'avisos', 'acepto', 'centrocatálogosinformación', 'temporada', 'terraza', 'jardín', 'balcón', 'set', 'cojines', 'ocultación', 'colecciones', 'iluminación', 'adiós', 'insectos', 'cocina', 'baño', 'resina', 'baúles', 'ropero', 'facilidades', 'tarjeta', 'gastos', 'compras', 'marzo', 'ejemplos', 'importe', 'crédito', 'decimales', 'cuota', 'proyectos', 'pago', 'ayudarte', 'amueblamos', 'decoración', 'galerías', 'cama', 'madera', 'muebles', 'dormitorio', 'love', 'ambiente', 'spazioteca', 'saint', 'pie', 'metal', 'mesa', 'cartegena', 'camas', 'armarios', 'literas', 'mas', 'armario', 'habitaciones', 'brillo', 'vestidores', 'espacios', 'color', 'fundamentos', 'lógica', 'familias', 'alrededores', 'objetivo', 'tarea', 'sueños', 'sentimientos', 'tendencias', 'arquitectura', 'casas', 'conceptos', 'amueblamiento', 'ideas', 'ambientes', 'funcionalidad', 'calidades', 'combinación', 'disfrutarlos', 'fiabilidad', 'selección', 'poder', 'mostrarlo', 'exposición', 'decoradores', 'vuestras', 'satisfechos', 'dichos', 'refranero', 'renovarse', 'home', 'letra', 'estamos', 'propuestas', 'aporten', 'arianne', 'antecesor', 'rincón', 'mesas', 'tapas', 'mejor', 'bizkaia', 'teléfono', 'lunes', 'tarde', 'sabado', 'lista', 'deseos', 'tiendas', 'inspiración', 'carrera', 'comedor', 'salón', 'vestíbulo', 'oficina', 'marrón', 'cm', '-20', 'cajones', 'puerta', 'blanco', 'espejo', 'bosque', 'retro', '-31', 'baldas', 'castle', 'atención', 'frase', 'significado', 'castillo', 'remanso', 'paz', 'familia', 'amigos', 'gusto', 'conseguirlo', 'estancias', 'alma', 'catálogo', 'encontrarás', 'sillas', 'variedad', 'prácticas', 'ensueño', 'diferencia', 'pasado', 'vez', 'reunión', 'deberes', 'elemento', 'aparador', 'vitrina', 'preferencias', 'diseños', 'pino', 'aceitados', 'cuadradas', 'macizas', 'finas', 'prefieres', 'perfectos', 'comodidad', 'muchísimas', 'maneras', 'estancia', 'confortables', 'sillones', 'chillones', 'tapizados', 'cuero', 'tejidos', 'imaginación', 'combinarlos', 'sofá', 'supuesto', 'copa', 'plato', 'aperitivo', 'necesitarás', 'abedul', 'vidrio', 'tamaños', 'realidad', 'estanterías', 'cómodas', 'objetos', 'nichos', 'arcones', 'almacenaje', 'fidelidad', 'multimedia', 'distancia', 'revistas', 'olvidarte', 'desorden', 'posibilidades', 'separado', 'tercio', 'mesita', 'noche', 'somier', 'colchón', 'moda', 'tienes', 'roble', 'atractivo', 'spring', 'espalda', 'columna', 'libro', 'gafas', 'lámpara', 'ropa', 'chaquetas', 'rústicos', 'gustos', 'falta', 'zapatos', 'gorros', 'percheros', 'prendas', 'complementos', 'estantes', 'llaves', 'móvil', 'hijos', 'sentaros', 'poneros', 'banco', 'invitados', 'vistazo', 'trabajas', 'despacho', 'rinconcito', 'portátil', 'escritorios', 'filosofía', 'escojas', 'tersura', 'respaldo', 'expectativas', 'asesorarte', 'princesas', 'aventureros', 'cuarto', 'tus', 'guarida', 'niños', 'alturas', 'tobogán', 'túneles', 'torres', 'cortinas', 'castillos', 'acogedoras', 'guaridas', 'acompañantes', 'ducha', 'templo', 'toallas', 'estantería', 'lavabo', 'bonitos', 'nogal', 'bambú', 'relajación', 'hueco', 'nicho', 'vacío', 'verás', 'agradables', 'luminosas', 'determinado', 'acento', 'marcarás', 'vintage', 'encuentres', 'aparadores', 'colchones', 'somieres', 'infinidad', 'definitiva', 'preguntas', 'ponerte', 'atenderte', 'envío', '10.-', 'desistimiento', 'herramienta', 'reformas', 'piscina', 'guía', 'climatización', 'tratamiento', 'maquinaria', 'agua', 'vivienda', 'huerto', 'oportunidades', 'perderte', 'válido', 'península', 'disponibilidad', 'pasos', 'look', 'bienvenida', 'enamorarte', 'imaginado', 'salones', 'estilos', 'libros', 'vista', 'mantas', 'arcón', 'chaise', 'idea', 'cantidad', 'vistos', 'giro', 'mueble', 'televisión', 'ventanas', 'radiadores', 'acondicionado', 'festival', 'tapizado', 'fundas', 'celeste', 'rojo', 'burdeos', 'marrones', 'salon', 'lectura', 'excelencia', 'novela', 'utilidad', 'jarrón', 'flores', 'taza', 'café', 'redecorarlo', 'compártelo', 'transformables', 'décadas', 'papel', 'decorarlo', 'luz', 'tele', 'elección', 'premisa', 'blog', 'rato', 'artículos', 'sello', 'elecciones', 'inspirarte', 'buscas', 'limpieza', 'amplitud', 'tapa', 'presupuesto', 'cristal', 'comedores', 'aprovechamiento', 'patas', 'garantía', 'convertirla', 'gritos', 'delicias', 'turno', 'complemento', 'comidas', 'abanico', 'consonancia', 'confort', 'conforma', 'cabida', 'tejido', 'sinfín', '46x50x98', 'indiscutibles', 'metalizada', 'proyecto', 'apuestas', 'factores', 'desayuno', 'recomendación', 'rectas', 'situación', 'tonos', 'ocasiones', 'habitación', 'noches', 'paredes', 'recuerdos', 'radiografía', 'aires', 'continuación', 'partido', 'reto', 'aventura', 'vosotros', 'principio', 'tormenta', 'deseáis', 'sol', 'contrastes', 'suerte', 'exterior', 'mobiliario', 'escritorio', 'calidez', 'bombillas', 'intensidad', 'lámparas', 'cuello', 'permitirnos', 'esfuerzo', 'verla', 'bienestar', 'neutros', 'marfil', 'salmón', 'parquet', 'cuadros', 'cabecero', 'quebraderos', 'cabeza', 'edades', 'consejo', 'combínalos', 'fiel', 'mañanas', 'finde', 'almohadones', 'ingredientes', 'hecho', 'descanso', 'lienzo', 'sintonía', 'colcha', 'manta', 'busca', 'tengas', 'instante', 'dormitorios', 'atajo', 'rumbo', 'tiradores', 'luces', 'vuelco', 'grados', 'calma', 'resumidas', 'cuentas', 'guinda', 'pastel', 'pósters', 'suelo', 'perchas', 'televisor', 'jirafa', 'accesorio', 'combinaciones', 'hacerlo', 'actor', 'actriz', 'decorado', 'sobrecargues', 'trates', 'minimalismo', 'partícipes', 'mereces', 'herramientas', 'pones', 'podéis', 'guías', 'protagonista', 'amigo', 'sofás', 'presumen', 'necesidad', 'favor', 'tan', 'tapicería', 'poliuretano', 'poliéster', 'sillón', 'material', 'durabilidad', 'manual', 'mecanismos', 'tableros', 'relax', 'cabeceros', 'pufs', 'enseres', 'cabezales', 'posibilidad', 'apertura', 'armazón', 'goma', '206x98x105', 'manchas', 'rinconera', 'densidad', 'deslizantes', '278x278x98', 'butacas', 'haz', 'reine', 'tipos', 'satisfactorias', 'originalidad', 'recibidores', 'monedas', 'aprovecharlos', 'huirás', 'manteles', 'quieras', 'televisores', 'router', 'videoconsola', 'reproductor', 'espejos', 'espejoses', 'ubiquemos', 'estad', 'lugares', 'recibidor', 'pasillos', 'chimeneas', 'zapateros', 'emplearlos', 'twitter', 'etiquetas', 'tu', 'matrimonio', 'modernos', 'experiencia', 'favoritos', 'sábado', 'bilbao', 'edificio', 'asesores', 'bilbao@muebleslafabrica.com', 'proyectostransporte', 'recepción', 'somos', 'consulting', 'satisfacción', 'ganas', 'sociedad', 'ilusión', 'retos', 'procesos', 'tareas', 'with', 'kulturnet', 'reservas', 'museos', 'mediciones', 'objeto', 'instantes', 'multinacional', 'software', 'implementación', 'cartera', 'comunicaciones', 'agenda', 'páginas', 'rechazarlo', 'partners', 'hacemos', 'únete', 'transformación', 'conocimiento', 'ciudadanos', 'interoperabilidad', 'requisitos', 'particularidades', 'pacientes', 'paises', 'negocios', 'compañero', 'eco', 'jornadas', 'cáncer', 'mama', 'consorcio', 'puesta', 'formato', 'ciclos', 'facebookfacebook', 'dominion', 'nosotros', 'grids', 'clave', 'ingeniería', 'divisiones', 'industryengineering', 'revestimientos', 'montajes', 'combustión', 'logística', 'innovadoras', 'digital', 'más360º360º', 'telecomunicaciones', 'automatización', 'flexible', 'milla', 'máquinas', 'revolución', 'smart', 'eu', 'pt', 'juntos', 'prestación', 'ámbito', 'ámbitos', 'cualificación', 'plantilla', 'certificaciones', 'aenor', 'goberno', 'rights', '\\ufeffir', 'pretenderlo', 'relacionarnos', 'proximidad', 'naturalidad', 'fórmulas', 'aliado', 'entenderte', 'claridad', 'empatía', 'eres', 'transparencia', 'sospechas', 'ayuda', 'concédenos', 'oportunidad', 'conocerte', 'demostrarte', 'publicación', 'outsourcing', 'sept', 'talento', 'organizaciones', 'objetivos', 'acércate', 'pyme', 'servici', 'farmacias', 'conductaestado', 'contigo', 'trabajar', 'gente', 'actitud', 'archivo', 'localizar', '+34', '\\ufeffacceso', 'business', 'dell', 'sage', 'sistel', 'solicita', 'rentabilidad', 'profesionalidad', 'consultoría', 'idóneos', 'factor', 'te', 'capacidades', 'aplicaciones', 'migración', 'productividad', 'cabo', 'provecho', 'asunto', 'modificación', 'contabilidad', 'etc.', 'ritmo', 'metodologías', 'conocimientos', 'manejo', 'cursos', 'pretendes', 'asesora', 'trayecto', 'brevedad', 'marketing', 'ramas', 'planificación', 'ley', 'mensaje', 'captcha', 'pregunta', 'visitante', 'envíos', 'spam', 'marketing@sistel.es', 'icongoogle+', '\\ufeffzorraquino', 'cultura', 'investigación', 'comunicación', 'sesiones', 'diseñador', 'pautas', 'conversión', 'formulación', 'patrones', 'validación', 'hipotésis', 'consumidor', 'ayudarnos', 'full', 'stack', 'talentos', 'programador', 'persona', 'iniciativa', 'desarrollarse', 'informes']\n"
     ]
    }
   ],
   "source": [
    "#Filter common words between dictionaries\n",
    "macroDictionary=[]\n",
    "path = './dictionaries/'\n",
    "for r, d, f in os.walk(path):   \n",
    "    for file in f:\n",
    "        print(path)\n",
    "        print(file)\n",
    "        df=pd.read_csv(path+'/'+file, sep=\";\",encoding='utf8')\n",
    "        for index, row in df.iterrows():\n",
    "            macroDictionary.append(row['0'])\n",
    "            #print(row['0'])\n",
    "macroDictionary_for_keywords_with_filter = list(dict.fromkeys(macroDictionary))\n",
    "print(len(macroDictionary_for_keywords_with_filter))\n",
    "print(macroDictionary_for_keywords_with_filter)"
   ]
  },
  {
   "cell_type": "code",
   "execution_count": null,
   "metadata": {},
   "outputs": [],
   "source": []
  }
 ],
 "metadata": {
  "kernelspec": {
   "display_name": "Python 3",
   "language": "python",
   "name": "python3"
  },
  "language_info": {
   "codemirror_mode": {
    "name": "ipython",
    "version": 3
   },
   "file_extension": ".py",
   "mimetype": "text/x-python",
   "name": "python",
   "nbconvert_exporter": "python",
   "pygments_lexer": "ipython3",
   "version": "3.7.3"
  }
 },
 "nbformat": 4,
 "nbformat_minor": 2
}
