{
 "cells": [
  {
   "cell_type": "code",
   "execution_count": 1,
   "metadata": {},
   "outputs": [
    {
     "name": "stdout",
     "output_type": "stream",
     "text": [
      "Requirement already up-to-date: spacy in d:\\anaconda3\\lib\\site-packages (2.1.8)\n",
      "Requirement already satisfied, skipping upgrade: murmurhash<1.1.0,>=0.28.0 in d:\\anaconda3\\lib\\site-packages (from spacy) (1.0.2)\n",
      "Requirement already satisfied, skipping upgrade: requests<3.0.0,>=2.13.0 in d:\\anaconda3\\lib\\site-packages (from spacy) (2.22.0)\n",
      "Requirement already satisfied, skipping upgrade: cymem<2.1.0,>=2.0.2 in d:\\anaconda3\\lib\\site-packages (from spacy) (2.0.2)\n",
      "Requirement already satisfied, skipping upgrade: srsly<1.1.0,>=0.0.6 in d:\\anaconda3\\lib\\site-packages (from spacy) (0.1.0)\n",
      "Requirement already satisfied, skipping upgrade: numpy>=1.15.0 in d:\\anaconda3\\lib\\site-packages (from spacy) (1.16.4)\n",
      "Requirement already satisfied, skipping upgrade: preshed<2.1.0,>=2.0.1 in d:\\anaconda3\\lib\\site-packages (from spacy) (2.0.1)\n",
      "Requirement already satisfied, skipping upgrade: thinc<7.1.0,>=7.0.8 in d:\\anaconda3\\lib\\site-packages (from spacy) (7.0.8)\n",
      "Requirement already satisfied, skipping upgrade: wasabi<1.1.0,>=0.2.0 in d:\\anaconda3\\lib\\site-packages (from spacy) (0.2.2)\n",
      "Requirement already satisfied, skipping upgrade: plac<1.0.0,>=0.9.6 in d:\\anaconda3\\lib\\site-packages (from spacy) (0.9.6)\n",
      "Requirement already satisfied, skipping upgrade: blis<0.3.0,>=0.2.2 in d:\\anaconda3\\lib\\site-packages (from spacy) (0.2.4)\n",
      "Requirement already satisfied, skipping upgrade: urllib3!=1.25.0,!=1.25.1,<1.26,>=1.21.1 in d:\\anaconda3\\lib\\site-packages (from requests<3.0.0,>=2.13.0->spacy) (1.24.2)\n",
      "Requirement already satisfied, skipping upgrade: chardet<3.1.0,>=3.0.2 in d:\\anaconda3\\lib\\site-packages (from requests<3.0.0,>=2.13.0->spacy) (3.0.4)\n",
      "Requirement already satisfied, skipping upgrade: certifi>=2017.4.17 in d:\\anaconda3\\lib\\site-packages (from requests<3.0.0,>=2.13.0->spacy) (2019.6.16)\n",
      "Requirement already satisfied, skipping upgrade: idna<2.9,>=2.5 in d:\\anaconda3\\lib\\site-packages (from requests<3.0.0,>=2.13.0->spacy) (2.8)\n",
      "Requirement already satisfied, skipping upgrade: tqdm<5.0.0,>=4.10.0 in d:\\anaconda3\\lib\\site-packages (from thinc<7.1.0,>=7.0.8->spacy) (4.32.1)\n",
      "Requirement already satisfied: en_core_web_sm==2.1.0 from https://github.com/explosion/spacy-models/releases/download/en_core_web_sm-2.1.0/en_core_web_sm-2.1.0.tar.gz#egg=en_core_web_sm==2.1.0 in d:\\anaconda3\\lib\\site-packages (2.1.0)\n",
      "[+] Download and installation successful\n",
      "You can now load the model via spacy.load('en_core_web_sm')\n",
      "vínculo simbólico creado para D:\\anaconda3\\lib\\site-packages\\spacy\\data\\en <<===>> D:\\anaconda3\\lib\\site-packages\\en_core_web_sm\n",
      "[+] Linking successful\n",
      "D:\\anaconda3\\lib\\site-packages\\en_core_web_sm -->\n",
      "D:\\anaconda3\\lib\\site-packages\\spacy\\data\\en\n",
      "You can now load the model via spacy.load('en')\n",
      "Requirement already satisfied: es_core_news_sm==2.1.0 from https://github.com/explosion/spacy-models/releases/download/es_core_news_sm-2.1.0/es_core_news_sm-2.1.0.tar.gz#egg=es_core_news_sm==2.1.0 in d:\\anaconda3\\lib\\site-packages (2.1.0)\n",
      "[+] Download and installation successful\n",
      "You can now load the model via spacy.load('es_core_news_sm')\n",
      "vínculo simbólico creado para D:\\anaconda3\\lib\\site-packages\\spacy\\data\\es <<===>> D:\\anaconda3\\lib\\site-packages\\es_core_news_sm\n",
      "[+] Linking successful\n",
      "D:\\anaconda3\\lib\\site-packages\\es_core_news_sm -->\n",
      "D:\\anaconda3\\lib\\site-packages\\spacy\\data\\es\n",
      "You can now load the model via spacy.load('es')\n"
     ]
    }
   ],
   "source": [
    "!pip install -U spacy\n",
    "!python -m spacy download en\n",
    "!python -m spacy download es"
   ]
  },
  {
   "cell_type": "code",
   "execution_count": 93,
   "metadata": {},
   "outputs": [
    {
     "name": "stdout",
     "output_type": "stream",
     "text": [
      "./articles/aeronautics\n",
      "a380.txt\n",
      "aciturri.txt\n",
      "airbus.txt\n",
      "itp.txt\n",
      "partes.txt\n",
      "qantas.txt\n",
      "./articles/cars\n",
      "audiRS6.txt\n",
      "bugatti.txt\n",
      "diesel.txt\n",
      "fiat.txt\n",
      "gaursa.txt\n",
      "mazda3.txt\n",
      "neumaticos.txt\n",
      "renault.txt\n",
      "repostar.txt\n",
      "seat.txt\n",
      "subaru.txt\n",
      "suv.txt\n",
      "volvo.txt\n",
      "./articles/furniture\n",
      "bricor.txt\n",
      "decoracion.txt\n",
      "jysk.txt\n",
      "leroy.txt\n",
      "merkamueble.txt\n",
      "muebles.txt\n"
     ]
    }
   ],
   "source": [
    "import os\n",
    "import pandas as pd\n",
    "from spacy.lang.es.examples import sentences \n",
    "nlp = spacy.load('es_core_news_sm')\n",
    "\n",
    "#Generate dictionaries\n",
    "path = './articles/'\n",
    "for r, d, f in os.walk(path):   \n",
    "    for directory in d:\n",
    "        path2=path+directory\n",
    "        dictionary_for_keywords=[]\n",
    "        for r2,d2,f2 in os.walk(path2):\n",
    "            print(path2)\n",
    "            for file in f2:\n",
    "                print(file)\n",
    "                articleFile = open(path2+'/'+file,'r',encoding='utf8') \n",
    "                article=articleFile.read()\n",
    "\n",
    "                doc=nlp(article)\n",
    "\n",
    "                for token in doc:\n",
    "                    if(token.pos_==\"NOUN\" and len(token)>1):\n",
    "                        #print(token.text, token.pos_, token.dep_)\n",
    "                        dictionary_for_keywords.append(token.text)\n",
    "            dictionary_for_keywords_with_filter = list(dict.fromkeys(dictionary_for_keywords))\n",
    "            df = pd.DataFrame(dictionary_for_keywords_with_filter)\n",
    "            df.to_csv('../Inferator/dictionaries/'+directory+'.csv',sep=';',encoding='utf8')"
   ]
  },
  {
   "cell_type": "markdown",
   "metadata": {},
   "source": []
  },
  {
   "cell_type": "code",
   "execution_count": null,
   "metadata": {},
   "outputs": [],
   "source": [
    "#Filter common words between dictionaries"
   ]
  }
 ],
 "metadata": {
  "kernelspec": {
   "display_name": "Python 3",
   "language": "python",
   "name": "python3"
  },
  "language_info": {
   "codemirror_mode": {
    "name": "ipython",
    "version": 3
   },
   "file_extension": ".py",
   "mimetype": "text/x-python",
   "name": "python",
   "nbconvert_exporter": "python",
   "pygments_lexer": "ipython3",
   "version": "3.7.3"
  }
 },
 "nbformat": 4,
 "nbformat_minor": 2
}
